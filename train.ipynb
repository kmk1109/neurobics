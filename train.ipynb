{
 "cells": [
  {
   "cell_type": "code",
   "execution_count": 1,
   "metadata": {},
   "outputs": [],
   "source": [
    "import csv\n",
    "import numpy as np\n",
    "import tensorflow as tf\n",
    "from sklearn.model_selection import train_test_split\n",
    "\n",
    "RANDOM_SEED = 10"
   ]
  },
  {
   "cell_type": "code",
   "execution_count": 2,
   "metadata": {},
   "outputs": [],
   "source": [
    "from glob import glob\n",
    "from pathlib import Path"
   ]
  },
  {
   "cell_type": "code",
   "execution_count": 3,
   "metadata": {},
   "outputs": [
    {
     "data": {
      "text/plain": [
       "[WindowsPath('dataset/raw/raw_five_1670060863.npy'),\n",
       " WindowsPath('dataset/raw/raw_four_1670060863.npy'),\n",
       " WindowsPath('dataset/raw/raw_one_1670060863.npy'),\n",
       " WindowsPath('dataset/raw/raw_three_1670060863.npy'),\n",
       " WindowsPath('dataset/raw/raw_two_1670060863.npy')]"
      ]
     },
     "execution_count": 3,
     "metadata": {},
     "output_type": "execute_result"
    }
   ],
   "source": [
    "dataset_group = sorted([x for x in Path(\"./dataset/raw\").glob(\"*.npy\")])\n",
    "dataset_group"
   ]
  },
  {
   "cell_type": "code",
   "execution_count": 4,
   "metadata": {},
   "outputs": [],
   "source": [
    "model_save_path = 'models/classifier.hdf5'\n",
    "tflite_save_path = 'models/classifier.tflite'"
   ]
  },
  {
   "cell_type": "code",
   "execution_count": 5,
   "metadata": {},
   "outputs": [],
   "source": [
    "actions = ['five', 'four', 'three', 'two', 'one']"
   ]
  },
  {
   "cell_type": "code",
   "execution_count": 6,
   "metadata": {},
   "outputs": [],
   "source": [
    "data = []"
   ]
  },
  {
   "cell_type": "code",
   "execution_count": 7,
   "metadata": {},
   "outputs": [],
   "source": [
    "for fle in dataset_group:\n",
    "    if len(data) == 0:\n",
    "        data = np.load(fle)\n",
    "    else:\n",
    "        data = np.concatenate([data, np.load(fle)], axis=0)"
   ]
  },
  {
   "cell_type": "code",
   "execution_count": 8,
   "metadata": {},
   "outputs": [
    {
     "name": "stdout",
     "output_type": "stream",
     "text": [
      "(2629, 100)\n",
      "[ 6.47246361e-01  5.50287843e-01  3.30378128e-07  0.00000000e+00\n",
      "  6.80410862e-01  5.13930321e-01 -4.93880594e-03  0.00000000e+00\n",
      "  6.99606001e-01  4.73457903e-01 -1.25982631e-02  0.00000000e+00\n",
      "  7.11424112e-01  4.32096362e-01 -1.93794854e-02  0.00000000e+00\n",
      "  7.23487496e-01  4.01319265e-01 -2.68234350e-02  0.00000000e+00\n",
      "  6.54819369e-01  4.14837092e-01 -1.96651593e-02  0.00000000e+00\n",
      "  6.53062999e-01  3.50154221e-01 -2.89574210e-02  0.00000000e+00\n",
      "  6.50760293e-01  3.11527103e-01 -3.41069996e-02  0.00000000e+00\n",
      "  6.49540782e-01  2.82753319e-01 -3.73892076e-02  0.00000000e+00\n",
      "  6.28432512e-01  4.17551041e-01 -2.26669833e-02  0.00000000e+00\n",
      "  6.16192997e-01  3.49861979e-01 -3.26559320e-02  0.00000000e+00\n",
      "  6.08314693e-01  3.07343692e-01 -3.86209451e-02  0.00000000e+00\n",
      "  6.03158295e-01  2.75574178e-01 -4.26982567e-02  0.00000000e+00\n",
      "  6.04540825e-01  4.32681441e-01 -2.50353105e-02  0.00000000e+00\n",
      "  5.90386331e-01  3.68584722e-01 -3.50769013e-02  0.00000000e+00\n",
      "  5.82254529e-01  3.28188121e-01 -4.29395437e-02  0.00000000e+00\n",
      "  5.77600539e-01  2.97535747e-01 -4.79653552e-02  0.00000000e+00\n",
      "  5.83903611e-01  4.56274003e-01 -2.67544184e-02  0.00000000e+00\n",
      "  5.62942147e-01  4.14188385e-01 -3.69947739e-02  0.00000000e+00\n",
      "  5.48704803e-01  3.86584938e-01 -4.27951068e-02  0.00000000e+00\n",
      "  5.37464321e-01  3.61502856e-01 -4.57172319e-02  0.00000000e+00\n",
      "  1.72999744e+01  9.33252621e+00  6.53040314e+00  4.70730591e+00\n",
      "  1.93155408e+00  1.45541632e+00  2.53519487e+00  4.76532012e-01\n",
      "  1.41708624e+00  7.83921003e+00  2.35505199e+00  3.14125276e+00\n",
      "  7.37506151e+00  1.88328743e+00  5.47834206e+00  0.00000000e+00]\n"
     ]
    }
   ],
   "source": [
    "print(data.shape)\n",
    "print(data[0])"
   ]
  },
  {
   "cell_type": "code",
   "execution_count": 9,
   "metadata": {},
   "outputs": [],
   "source": [
    "NUM_CLASSES = 5"
   ]
  },
  {
   "cell_type": "code",
   "execution_count": 10,
   "metadata": {},
   "outputs": [
    {
     "name": "stdout",
     "output_type": "stream",
     "text": [
      "[[ 6.47246361e-01  5.50287843e-01  3.30378128e-07 ...  7.37506151e+00\n",
      "   1.88328743e+00  5.47834206e+00]\n",
      " [ 6.49556994e-01  5.57421327e-01  3.31400571e-07 ...  6.16216040e+00\n",
      "   1.09553540e+00  4.24988556e+00]\n",
      " [ 6.47758842e-01  5.59856355e-01  3.24325697e-07 ...  7.36907864e+00\n",
      "   1.30498755e+00  3.80929208e+00]\n",
      " ...\n",
      " [ 7.09645748e-01  6.19718850e-01 -3.67645868e-07 ...  2.48343158e+00\n",
      "   1.65730133e+01  6.87379122e+00]\n",
      " [ 7.08830535e-01  6.19214058e-01 -3.65408539e-07 ...  2.52631998e+00\n",
      "   1.61935883e+01  7.28246355e+00]\n",
      " [ 7.08807945e-01  6.18570089e-01 -3.57133104e-07 ...  2.70864868e+00\n",
      "   1.59108086e+01  7.36292553e+00]]\n",
      "(2629, 99)\n"
     ]
    }
   ],
   "source": [
    "X_dataset = data[:,0:99]\n",
    "print(X_dataset)\n",
    "print(X_dataset.shape)"
   ]
  },
  {
   "cell_type": "code",
   "execution_count": 11,
   "metadata": {},
   "outputs": [
    {
     "name": "stdout",
     "output_type": "stream",
     "text": [
      "[0. 0. 0. ... 3. 3. 3.]\n"
     ]
    }
   ],
   "source": [
    "y_dataset = data[:,99]\n",
    "print(y_dataset)"
   ]
  },
  {
   "cell_type": "code",
   "execution_count": 12,
   "metadata": {},
   "outputs": [],
   "source": [
    "X_train, X_test, y_train, y_test = train_test_split(X_dataset, y_dataset, train_size=0.75, random_state=RANDOM_SEED)"
   ]
  },
  {
   "cell_type": "code",
   "execution_count": 18,
   "metadata": {},
   "outputs": [],
   "source": [
    "model = tf.keras.models.Sequential([\n",
    "    tf.keras.layers.Input((99)),\n",
    "    #tf.keras.layers.Input((99,)),\n",
    "    tf.keras.layers.Dropout(0.2),\n",
    "    tf.keras.layers.Dense(20, activation='relu'),\n",
    "    tf.keras.layers.Dropout(0.4),\n",
    "    tf.keras.layers.Dense(10, activation='relu'),\n",
    "    tf.keras.layers.Dense(NUM_CLASSES, activation='softmax')\n",
    "])"
   ]
  },
  {
   "cell_type": "code",
   "execution_count": 19,
   "metadata": {},
   "outputs": [
    {
     "name": "stdout",
     "output_type": "stream",
     "text": [
      "Model: \"sequential_1\"\n",
      "_________________________________________________________________\n",
      " Layer (type)                Output Shape              Param #   \n",
      "=================================================================\n",
      " dropout_2 (Dropout)         (None, 99)                0         \n",
      "                                                                 \n",
      " dense_3 (Dense)             (None, 20)                2000      \n",
      "                                                                 \n",
      " dropout_3 (Dropout)         (None, 20)                0         \n",
      "                                                                 \n",
      " dense_4 (Dense)             (None, 10)                210       \n",
      "                                                                 \n",
      " dense_5 (Dense)             (None, 5)                 55        \n",
      "                                                                 \n",
      "=================================================================\n",
      "Total params: 2,265\n",
      "Trainable params: 2,265\n",
      "Non-trainable params: 0\n",
      "_________________________________________________________________\n"
     ]
    }
   ],
   "source": [
    "model.summary()"
   ]
  },
  {
   "cell_type": "code",
   "execution_count": 15,
   "metadata": {},
   "outputs": [],
   "source": [
    "cp_callback = tf.keras.callbacks.ModelCheckpoint(\n",
    "    model_save_path, verbose=1, save_weights_only=False)"
   ]
  },
  {
   "cell_type": "code",
   "execution_count": 16,
   "metadata": {},
   "outputs": [],
   "source": [
    "model.compile(\n",
    "    optimizer = 'adam',\n",
    "    loss = 'sparse_categorical_crossentropy',\n",
    "    metrics=['accuracy']\n",
    ")"
   ]
  },
  {
   "cell_type": "code",
   "execution_count": 17,
   "metadata": {},
   "outputs": [
    {
     "name": "stdout",
     "output_type": "stream",
     "text": [
      "Epoch 1/1000\n"
     ]
    },
    {
     "ename": "ValueError",
     "evalue": "in user code:\n\n    File \"c:\\ProgramData\\Anaconda3\\lib\\site-packages\\keras\\engine\\training.py\", line 1051, in train_function  *\n        return step_function(self, iterator)\n    File \"c:\\ProgramData\\Anaconda3\\lib\\site-packages\\keras\\engine\\training.py\", line 1040, in step_function  **\n        outputs = model.distribute_strategy.run(run_step, args=(data,))\n    File \"c:\\ProgramData\\Anaconda3\\lib\\site-packages\\keras\\engine\\training.py\", line 1030, in run_step  **\n        outputs = model.train_step(data)\n    File \"c:\\ProgramData\\Anaconda3\\lib\\site-packages\\keras\\engine\\training.py\", line 889, in train_step\n        y_pred = self(x, training=True)\n    File \"c:\\ProgramData\\Anaconda3\\lib\\site-packages\\keras\\utils\\traceback_utils.py\", line 67, in error_handler\n        raise e.with_traceback(filtered_tb) from None\n    File \"c:\\ProgramData\\Anaconda3\\lib\\site-packages\\keras\\engine\\input_spec.py\", line 264, in assert_input_compatibility\n        raise ValueError(f'Input {input_index} of layer \"{layer_name}\" is '\n\n    ValueError: Input 0 of layer \"sequential\" is incompatible with the layer: expected shape=(None, 1, 99), found shape=(None, 99)\n",
     "output_type": "error",
     "traceback": [
      "\u001b[1;31m---------------------------------------------------------------------------\u001b[0m",
      "\u001b[1;31mValueError\u001b[0m                                Traceback (most recent call last)",
      "\u001b[1;32mc:\\workspace\\python\\skeleton_01\\train.ipynb 셀 17\u001b[0m in \u001b[0;36m<cell line: 1>\u001b[1;34m()\u001b[0m\n\u001b[1;32m----> <a href='vscode-notebook-cell:/c%3A/workspace/python/skeleton_01/train.ipynb#X22sZmlsZQ%3D%3D?line=0'>1</a>\u001b[0m model\u001b[39m.\u001b[39;49mfit(\n\u001b[0;32m      <a href='vscode-notebook-cell:/c%3A/workspace/python/skeleton_01/train.ipynb#X22sZmlsZQ%3D%3D?line=1'>2</a>\u001b[0m     X_train,\n\u001b[0;32m      <a href='vscode-notebook-cell:/c%3A/workspace/python/skeleton_01/train.ipynb#X22sZmlsZQ%3D%3D?line=2'>3</a>\u001b[0m     y_train,\n\u001b[0;32m      <a href='vscode-notebook-cell:/c%3A/workspace/python/skeleton_01/train.ipynb#X22sZmlsZQ%3D%3D?line=3'>4</a>\u001b[0m     epochs\u001b[39m=\u001b[39;49m\u001b[39m1000\u001b[39;49m,\n\u001b[0;32m      <a href='vscode-notebook-cell:/c%3A/workspace/python/skeleton_01/train.ipynb#X22sZmlsZQ%3D%3D?line=4'>5</a>\u001b[0m     batch_size\u001b[39m=\u001b[39;49m\u001b[39m120\u001b[39;49m,\n\u001b[0;32m      <a href='vscode-notebook-cell:/c%3A/workspace/python/skeleton_01/train.ipynb#X22sZmlsZQ%3D%3D?line=5'>6</a>\u001b[0m     validation_data\u001b[39m=\u001b[39;49m(X_test,y_test),\n\u001b[0;32m      <a href='vscode-notebook-cell:/c%3A/workspace/python/skeleton_01/train.ipynb#X22sZmlsZQ%3D%3D?line=6'>7</a>\u001b[0m     callbacks\u001b[39m=\u001b[39;49m[cp_callback]\n\u001b[0;32m      <a href='vscode-notebook-cell:/c%3A/workspace/python/skeleton_01/train.ipynb#X22sZmlsZQ%3D%3D?line=7'>8</a>\u001b[0m )\n",
      "File \u001b[1;32mc:\\ProgramData\\Anaconda3\\lib\\site-packages\\keras\\utils\\traceback_utils.py:67\u001b[0m, in \u001b[0;36mfilter_traceback.<locals>.error_handler\u001b[1;34m(*args, **kwargs)\u001b[0m\n\u001b[0;32m     65\u001b[0m \u001b[39mexcept\u001b[39;00m \u001b[39mException\u001b[39;00m \u001b[39mas\u001b[39;00m e:  \u001b[39m# pylint: disable=broad-except\u001b[39;00m\n\u001b[0;32m     66\u001b[0m   filtered_tb \u001b[39m=\u001b[39m _process_traceback_frames(e\u001b[39m.\u001b[39m__traceback__)\n\u001b[1;32m---> 67\u001b[0m   \u001b[39mraise\u001b[39;00m e\u001b[39m.\u001b[39mwith_traceback(filtered_tb) \u001b[39mfrom\u001b[39;00m \u001b[39mNone\u001b[39m\n\u001b[0;32m     68\u001b[0m \u001b[39mfinally\u001b[39;00m:\n\u001b[0;32m     69\u001b[0m   \u001b[39mdel\u001b[39;00m filtered_tb\n",
      "File \u001b[1;32mC:\\Users\\Public\\Documents\\ESTsoft\\CreatorTemp\\__autograph_generated_file0f_p3ggp.py:15\u001b[0m, in \u001b[0;36mouter_factory.<locals>.inner_factory.<locals>.tf__train_function\u001b[1;34m(iterator)\u001b[0m\n\u001b[0;32m     13\u001b[0m \u001b[39mtry\u001b[39;00m:\n\u001b[0;32m     14\u001b[0m     do_return \u001b[39m=\u001b[39m \u001b[39mTrue\u001b[39;00m\n\u001b[1;32m---> 15\u001b[0m     retval_ \u001b[39m=\u001b[39m ag__\u001b[39m.\u001b[39mconverted_call(ag__\u001b[39m.\u001b[39mld(step_function), (ag__\u001b[39m.\u001b[39mld(\u001b[39mself\u001b[39m), ag__\u001b[39m.\u001b[39mld(iterator)), \u001b[39mNone\u001b[39;00m, fscope)\n\u001b[0;32m     16\u001b[0m \u001b[39mexcept\u001b[39;00m:\n\u001b[0;32m     17\u001b[0m     do_return \u001b[39m=\u001b[39m \u001b[39mFalse\u001b[39;00m\n",
      "\u001b[1;31mValueError\u001b[0m: in user code:\n\n    File \"c:\\ProgramData\\Anaconda3\\lib\\site-packages\\keras\\engine\\training.py\", line 1051, in train_function  *\n        return step_function(self, iterator)\n    File \"c:\\ProgramData\\Anaconda3\\lib\\site-packages\\keras\\engine\\training.py\", line 1040, in step_function  **\n        outputs = model.distribute_strategy.run(run_step, args=(data,))\n    File \"c:\\ProgramData\\Anaconda3\\lib\\site-packages\\keras\\engine\\training.py\", line 1030, in run_step  **\n        outputs = model.train_step(data)\n    File \"c:\\ProgramData\\Anaconda3\\lib\\site-packages\\keras\\engine\\training.py\", line 889, in train_step\n        y_pred = self(x, training=True)\n    File \"c:\\ProgramData\\Anaconda3\\lib\\site-packages\\keras\\utils\\traceback_utils.py\", line 67, in error_handler\n        raise e.with_traceback(filtered_tb) from None\n    File \"c:\\ProgramData\\Anaconda3\\lib\\site-packages\\keras\\engine\\input_spec.py\", line 264, in assert_input_compatibility\n        raise ValueError(f'Input {input_index} of layer \"{layer_name}\" is '\n\n    ValueError: Input 0 of layer \"sequential\" is incompatible with the layer: expected shape=(None, 1, 99), found shape=(None, 99)\n"
     ]
    }
   ],
   "source": [
    "model.fit(\n",
    "    X_train,\n",
    "    y_train,\n",
    "    epochs=1000,\n",
    "    batch_size=120,\n",
    "    validation_data=(X_test,y_test),\n",
    "    callbacks=[cp_callback]\n",
    ")"
   ]
  },
  {
   "cell_type": "code",
   "execution_count": null,
   "metadata": {},
   "outputs": [
    {
     "name": "stdout",
     "output_type": "stream",
     "text": [
      "6/6 [==============================] - 0s 3ms/step - loss: 0.3197 - accuracy: 0.8495\n"
     ]
    }
   ],
   "source": [
    "val_loss, val_acc = model.evaluate(X_test, y_test, batch_size=120)"
   ]
  },
  {
   "cell_type": "code",
   "execution_count": null,
   "metadata": {},
   "outputs": [],
   "source": [
    "model = tf.keras.models.load_model(model_save_path)"
   ]
  },
  {
   "cell_type": "code",
   "execution_count": null,
   "metadata": {},
   "outputs": [
    {
     "name": "stdout",
     "output_type": "stream",
     "text": [
      "1/1 [==============================] - 0s 109ms/step\n",
      "[0.000000e+00 0.000000e+00 0.000000e+00 8.623461e-05 9.999138e-01]\n",
      "4\n"
     ]
    }
   ],
   "source": [
    "predict_result = model.predict(np.array([X_test[0]]))\n",
    "print(np.squeeze(predict_result))\n",
    "print(np.argmax(np.squeeze(predict_result)))"
   ]
  },
  {
   "cell_type": "markdown",
   "metadata": {},
   "source": [
    "## Confusion Matrix"
   ]
  },
  {
   "cell_type": "code",
   "execution_count": null,
   "metadata": {},
   "outputs": [
    {
     "name": "stdout",
     "output_type": "stream",
     "text": [
      "21/21 [==============================] - 0s 2ms/step\n"
     ]
    },
    {
     "data": {
      "image/png": "[encoded data removed]",
      "text/plain": [
       "<Figure size 504x432 with 2 Axes>"
      ]
     },
     "metadata": {
      "needs_background": "light"
     },
     "output_type": "display_data"
    },
    {
     "name": "stdout",
     "output_type": "stream",
     "text": [
      "Classification Report\n",
      "              precision    recall  f1-score   support\n",
      "\n",
      "         0.0       1.00      1.00      1.00       124\n",
      "         1.0       1.00      0.23      0.38       129\n",
      "         2.0       0.59      1.00      0.74       143\n",
      "         3.0       1.00      1.00      1.00       127\n",
      "         4.0       1.00      1.00      1.00       135\n",
      "\n",
      "    accuracy                           0.85       658\n",
      "   macro avg       0.92      0.85      0.82       658\n",
      "weighted avg       0.91      0.85      0.82       658\n",
      "\n"
     ]
    }
   ],
   "source": [
    "import pandas as pd\n",
    "import seaborn as sns\n",
    "import matplotlib.pyplot as plt\n",
    "from sklearn.metrics import confusion_matrix, classification_report\n",
    "\n",
    "def print_confusion_matrix(y_true, y_pred, report=True):\n",
    "    labels = sorted(list(set(y_true)))\n",
    "    cmx_data = confusion_matrix(y_true, y_pred, labels=labels)\n",
    "    \n",
    "    df_cms = pd.DataFrame(cmx_data, index=labels, columns=labels)\n",
    "    \n",
    "    fig, ax = plt.subplots(figsize=(7,6))\n",
    "    sns.heatmap(df_cms, annot=True, fmt='g', square=False)\n",
    "    ax.set_ylim(len(set(y_true)),0)\n",
    "    plt.show()\n",
    "    \n",
    "    if report:\n",
    "        print('Classification Report')\n",
    "        print(classification_report(y_test, y_pred))\n",
    "        \n",
    "Y_pred = model.predict(X_test)\n",
    "y_pred = np.argmax(Y_pred, axis=1)\n",
    "\n",
    "print_confusion_matrix(y_test, y_pred)"
   ]
  },
  {
   "cell_type": "markdown",
   "metadata": {},
   "source": [
    "## Convert to model for TFlite"
   ]
  },
  {
   "cell_type": "code",
   "execution_count": null,
   "metadata": {},
   "outputs": [],
   "source": [
    "model.save(model_save_path, include_optimizer=False)"
   ]
  },
  {
   "cell_type": "code",
   "execution_count": null,
   "metadata": {},
   "outputs": [
    {
     "name": "stdout",
     "output_type": "stream",
     "text": [
      "INFO:tensorflow:Assets written to: C:\\Users\\Public\\Documents\\ESTsoft\\CreatorTemp\\tmpkhyh8rx1\\assets\n"
     ]
    },
    {
     "data": {
      "text/plain": [
       "5240"
      ]
     },
     "execution_count": 23,
     "metadata": {},
     "output_type": "execute_result"
    }
   ],
   "source": [
    "converter = tf.lite.TFLiteConverter.from_keras_model(model)\n",
    "converter.optimizations = [tf.lite.Optimize.DEFAULT]\n",
    "tflite_quantized_model = converter.convert()\n",
    "\n",
    "open(tflite_save_path, 'wb').write(tflite_quantized_model)"
   ]
  },
  {
   "cell_type": "markdown",
   "metadata": {},
   "source": [
    "## Inference test"
   ]
  },
  {
   "cell_type": "code",
   "execution_count": null,
   "metadata": {},
   "outputs": [],
   "source": [
    "interpreter = tf.lite.Interpreter(model_path=tflite_save_path)\n",
    "interpreter.allocate_tensors()"
   ]
  },
  {
   "cell_type": "code",
   "execution_count": null,
   "metadata": {},
   "outputs": [],
   "source": [
    "input_details = interpreter.get_input_details()\n",
    "output_details = interpreter.get_output_details()"
   ]
  },
  {
   "cell_type": "code",
   "execution_count": null,
   "metadata": {},
   "outputs": [
    {
     "name": "stdout",
     "output_type": "stream",
     "text": [
      "CPU times: total: 0 ns\n",
      "Wall time: 2 ms\n"
     ]
    }
   ],
   "source": [
    "%%time\n",
    "# Inference implementation\n",
    "interpreter.invoke()\n",
    "tflite_results = interpreter.get_tensor(input_details[0]['index'])"
   ]
  },
  {
   "cell_type": "code",
   "execution_count": null,
   "metadata": {},
   "outputs": [
    {
     "name": "stdout",
     "output_type": "stream",
     "text": [
      "[           nan            nan  5.6051939e-45  0.0000000e+00\n",
      "            nan            nan  1.4012985e-45  0.0000000e+00\n",
      "            nan            nan  1.4012985e-45  0.0000000e+00\n",
      "            nan            nan  1.4012985e-45  0.0000000e+00\n",
      "            nan            nan  3.4972036e-15  8.1695700e-43\n",
      "            nan            nan -1.1107011e+25  4.5913544e-41\n",
      "            nan            nan  9.8090893e-45  0.0000000e+00\n",
      "            nan            nan  2.8025969e-45  0.0000000e+00\n",
      "            nan            nan  7.5495220e-14  8.1695700e-43\n",
      "            nan            nan -1.5051131e+26  4.5913544e-41\n",
      "            nan            nan  1.4012985e-45  0.0000000e+00\n",
      "            nan            nan  2.8025969e-45  8.1695700e-43\n",
      "            nan            nan  1.4012985e-45  0.0000000e+00\n",
      "            nan            nan  5.6051939e-45  0.0000000e+00\n",
      "            nan            nan -3.5565329e+22  4.5913544e-41\n",
      "            nan            nan  1.4012985e-45  0.0000000e+00\n",
      "            nan            nan  4.7558021e+19  4.5914945e-41\n",
      "            nan            nan  1.4012985e-45  0.0000000e+00\n",
      "            nan            nan  3.4972030e-15  8.1695700e-43\n",
      "            nan            nan -1.1107011e+25  4.5913544e-41\n",
      "            nan            nan            nan  0.0000000e+00\n",
      "            nan            nan  2.8025969e-45  0.0000000e+00\n",
      "            nan            nan  1.4012985e-45  0.0000000e+00\n",
      "            nan            nan -1.5051130e+26  4.5913544e-41\n",
      "            nan            nan -1.5051129e+26]\n",
      "0\n"
     ]
    }
   ],
   "source": [
    "print(np.squeeze(tflite_results))\n",
    "print(np.argmax(np.squeeze(tflite_results)))"
   ]
  }
 ],
 "metadata": {
  "kernelspec": {
   "display_name": "Python 3.9.12 ('base')",
   "language": "python",
   "name": "python3"
  },
  "language_info": {
   "codemirror_mode": {
    "name": "ipython",
    "version": 3
   },
   "file_extension": ".py",
   "mimetype": "text/x-python",
   "name": "python",
   "nbconvert_exporter": "python",
   "pygments_lexer": "ipython3",
   "version": "3.9.12"
  },
  "orig_nbformat": 4,
  "vscode": {
   "interpreter": {
    "hash": "ad2bdc8ecc057115af97d19610ffacc2b4e99fae6737bb82f5d7fb13d2f2c186"
   }
  }
 },
 "nbformat": 4,
 "nbformat_minor": 2
}
